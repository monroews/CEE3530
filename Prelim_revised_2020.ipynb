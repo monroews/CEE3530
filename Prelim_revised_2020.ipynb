{
 "cells": [
  {
   "cell_type": "markdown",
   "metadata": {
    "colab_type": "text",
    "id": "eeLzh0EUr3TK"
   },
   "source": [
    "# CEE 4530 Prelim 2020\n",
    "\n",
    "Name:___________________\n",
    "\n",
    "This prelim is open book and open internet. You **are** allowed to discuss the questions and related concepts with anyone while you are taking this prelim. You are not allowed to post questions on discussion boards. If you have questions, send an email to Monroe (monroews@gmail.com). If the question is relevant for the whole class he will post it on the Canvas discussion board.\n",
    "\n",
    "For each question make sure to use units and to give variables names that are easily understood. Use print statements to **print the answers in a sentence** (except for the multiple choice!).\n",
    "\n",
    "Download your file as an ipynb and name it \"yournamePrelim.ipynb\" (10 points for this!)\n",
    "Turn your prelim in to Canvas as an assignment.\n",
    "\n",
    "Each question is worth 5 points."
   ]
  },
  {
   "cell_type": "code",
   "execution_count": 0,
   "metadata": {
    "colab": {},
    "colab_type": "code",
    "id": "4ITPjXg0r-6m"
   },
   "outputs": [],
   "source": [
    "!pip install aguaclara"
   ]
  },
  {
   "cell_type": "code",
   "execution_count": 0,
   "metadata": {
    "colab": {},
    "colab_type": "code",
    "id": "j3tpi4FnrwMX"
   },
   "outputs": [],
   "source": [
    "import aguaclara as ac\n",
    "from aguaclara.core.units import unit_registry as u\n",
    "import numpy as np\n",
    "import pandas as pd\n",
    "import matplotlib.pyplot as plt\n",
    "from scipy import stats"
   ]
  },
  {
   "cell_type": "markdown",
   "metadata": {
    "colab_type": "text",
    "id": "Ci7hsZy6sG0J"
   },
   "source": [
    "## Design a sand column experiment.\n",
    "A sand filter column has an inner diameter of 1 inch and 50 cm total internal height. The sand depth in the column is 30 cm. The sand porosity is 0.4 (40% of the sand bed is filled with water, 60% is filled with sand). The sand density is $2650 kg/m^3$. The target approach velocity (the velocity of the water in the column if there were no sand) is 1.8 mm/s. The water is pumped with a peristaltic pump that delivers 2.8 mL per revolution.\n",
    "\n",
    "\n",
    "1. What is the mass of sand (in grams) that must be added to the column?\n",
    "2. The dry sand is poured into the empty column. Should the column be filled with water in upflow or downflow? Explain why!\n",
    "3. What flow rate (in mL/s) is required?\n",
    "4. What should the pump revolutions per minute be in rev/min? (Note that rev is a unit!)\n",
    "5. What is the hydraulic residence time of the water in the column (in seconds) including both the residence time in the sand bed and the residence time in the water above the sand bed?\n",
    "             "
   ]
  },
  {
   "cell_type": "code",
   "execution_count": 0,
   "metadata": {
    "colab": {},
    "colab_type": "code",
    "id": "t6q-Sp4BsH52"
   },
   "outputs": [],
   "source": []
  },
  {
   "cell_type": "markdown",
   "metadata": {
    "colab_type": "text",
    "id": "ce48EHFPsMO5"
   },
   "source": [
    "## Acid Neutralizing Capacity\n",
    "\n",
    "A 52 mL water sample that contains some carbonates is titrated with 0.05 N HCl. The equivalent volume of the titrant was 2.5 mL.\n",
    "\n",
    "6. What was the ANC of the sample (in meq/L)?"
   ]
  },
  {
   "cell_type": "code",
   "execution_count": 0,
   "metadata": {
    "colab": {},
    "colab_type": "code",
    "id": "cp3GpQo0sOZV"
   },
   "outputs": [],
   "source": []
  },
  {
   "cell_type": "markdown",
   "metadata": {
    "colab_type": "text",
    "id": "1UrHouSKsUo_"
   },
   "source": [
    "## Photometer calibration\n",
    "The photometer that we use in lab measures absorbance using the following equation.\n",
    "\n",
    "$$A = -log \\frac{V_{Sample} - V_{Dark}}{V_{Blank} - V_{Dark}}$$\n",
    "\n",
    "where $log_{10}$ is log base 10.\n",
    "\n",
    "The relationship between concentration of a dissolved species and the absorbance will follow Beer's law.\n",
    "\n",
    "$$ A = \\epsilon b C + intercept $$\n",
    "\n",
    "where $\\epsilon$ is the extinction coefficient that is a property of the chemical species and where $intercept$ is zero.\n",
    "\n",
    "The optical path length for the photometer is 19 mm. The raw voltage data for dark voltage, blank voltage, standards, and unknown are given below.\n",
    "\n",
    "7. Use [stats.linregress](https://docs.scipy.org/doc/scipy/reference/generated/scipy.stats.linregress.html) to obtain the best fit line for the calibration with *absorbance as a function of concentration*. (No additional response needed for this number.)\n",
    "8. Plot the calibration data AND the best fit line (use both slope and intercept to draw this line) showing absorbance as a function of concentration (note that that ProCoDA shows this plot with the axis flipped). Make sure to label the axis and include a legend. And make sure that you have the same units on both plots!\n",
    "9. What is the correlation coefficient (r value) for the linear fit?\n",
    "10. Why does this data not follow Beer's law? Identify which data points do not follow Beer's law and explain the problem with those data points.\n",
    "\n",
    "11. Eliminate the data points that do not follow Beer's law. You can simply copy the raw data and then delete the data that doesn't follow Beer's law. You don't need to write an algorithm for this step.  (No additional response needed for this number.)\n",
    "12. Use [stats.linregress](https://docs.scipy.org/doc/scipy/reference/generated/scipy.stats.linregress.html) to obtain the best fit line for the data that is within the measurement range of the photometer. (No additional response needed for this number.) \n",
    "13. What is $\\epsilon$? Make sure to simplify the units to $length^2/mass$. (Make sure to attach the correct units after doing the linear regression! Note that you can now ignore the intercept because it is almost zero!)\n",
    "14. Create a function in python that returns the concentration given a sample voltage. You can derive this equation from the two equations above.( No additional response needed for this number.)\n",
    "15. What is the absorbance of the unknown?\n",
    "16. What is the concentration of the unknown?\n",
    "17. Plot the calibration data, the best fit line (use only the slope to draw this line) showing absorbance as a function of concentration, and the unknown sample. Make sure to label the axis and include a legend. And make sure that you have the same units on both plots!"
   ]
  },
  {
   "cell_type": "code",
   "execution_count": 0,
   "metadata": {
    "colab": {},
    "colab_type": "code",
    "id": "2A_2p3PBsTuN"
   },
   "outputs": [],
   "source": [
    "Dark_Volts = -1.3065 * u.V\n",
    "Blank_Volts = 3.49727 * u.V\n",
    "Unknown_Volts = 0.10632 * u.V\n",
    "Sample_C = np.array([0, 5, 10, 15, 20, 25, 50, 100, 200])* u.mg/u.L\n",
    "Sample_Volts = np.array([3.497270,0.554016,-0.611595,-1.045119,-1.252709,-1.283894, -1.29856, -1.30159, -1.30162])* u.volts"
   ]
  },
  {
   "cell_type": "markdown",
   "metadata": {
    "colab_type": "text",
    "id": "V6MwGulwsfJG"
   },
   "source": [
    "# Multiple Choice \n",
    "Use asterisks **to bold the correct answer(s).**\n",
    "\n",
    "17. A peristaltic pump is pumping a red dye solution from a tank on the floor through a column filled with sand and activated carbon with flow down through the column. The pump is on the laboratory bench and the column is held by clamps to a stand that is on the bench. The tube that exits from the bottom of the sand column is elevated and discharges to the atmosphere (it drips into the sink) at an elevation that is higher than the tubing entering the top of the sand column. There are air bubbles entering the sand column. Which explanation(s) for the source of the air bubbles is (are) consistent with the observed results? Use what you've learned in fluid mechanics to help guide your analysis.\n",
    "\n",
    "    A) Sand column fittings at the top of the column are leaking.\n",
    "\n",
    "    B) Sand column fittings at the bottom of the column are leaking.\n",
    "\n",
    "    C) Instant tube fitting (push to connect fitting) between the tank and the pump is leaking.\n",
    "\n",
    "    D) Instant tube fitting between the pump and the sand column is leaking.\n",
    "\n",
    "    E) The tank of red dye is nearly empty and the pump is beginning to pull air into the end of the inlet tube.\n",
    "\n",
    "18. ProCoDA is reporting a concentration of 10 mg/L of red dye with a calibrated photometer when students are pumping reverse osmosis water through the photometer. What might be causing the high readings? Which of the following explanations is (are) consistent with the observed results?\n",
    "\n",
    "     A) An air bubble is caught in the optical path of the photometer\n",
    "\n",
    "     B) The photometer LED is turned off\n",
    "\n",
    "     C) The photometer is installed backwards"
   ]
  }
 ],
 "metadata": {
  "colab": {
   "name": "Prelim2020.ipynb",
   "provenance": []
  },
  "kernelspec": {
   "display_name": "Python 3",
   "language": "python",
   "name": "python3"
  },
  "language_info": {
   "codemirror_mode": {
    "name": "ipython",
    "version": 3
   },
   "file_extension": ".py",
   "mimetype": "text/x-python",
   "name": "python",
   "nbconvert_exporter": "python",
   "pygments_lexer": "ipython3",
   "version": "3.7.3"
  }
 },
 "nbformat": 4,
 "nbformat_minor": 1
}
