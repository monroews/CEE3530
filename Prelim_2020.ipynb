{
  "nbformat": 4,
  "nbformat_minor": 0,
  "metadata": {
    "colab": {
      "name": "Prelim2020.ipynb",
      "provenance": [],
      "authorship_tag": "ABX9TyM2OeikEKn+KcMvjPfDCLyv"
    },
    "kernelspec": {
      "name": "python3",
      "display_name": "Python 3"
    }
  },
  "cells": [
    {
      "cell_type": "markdown",
      "metadata": {
        "id": "eeLzh0EUr3TK",
        "colab_type": "text"
      },
      "source": [
        "# CEE 4530 Prelim 2020\n",
        "\n",
        "Name:___________________\n",
        "\n",
        "This prelim is open book and open internet. You **are** allowed to discuss the questions and related concepts with anyone while you are taking this prelim. You are not allowed to post questions on discussion boards. If you have questions, send an email to Monroe (monroews@gmail.com). If the question is relevant for the whole class he will post it on the Canvas discussion board.\n",
        "\n",
        "For each question make sure to use units and to give variables names that are easily understood. Use print statements to **print the answers in a sentence** (except for the multiple choice!).\n",
        "\n",
        "Download your file as an ipynb and name it \"yournamePrelim.ipynb\" (10 points for this!)\n",
        "Turn your prelim in to Canvas as an assignment.\n",
        "\n",
        "Each question is worth 5 points."
      ]
    },
    {
      "cell_type": "markdown",
      "metadata": {
        "id": "AmbFfBIkzpMS",
        "colab_type": "text"
      },
      "source": [
        "# ABET\n",
        "PI 6b: Students analyze data to draw conclusions. \n",
        "\n",
        "* photometer calibration\n",
        "\n",
        "PI 6c: Students demonstrate both quantitative judgment and engineering judgment*.\n",
        "\n",
        "* photometer (eliminate data that is out of the range of the sensor)\n",
        "\n"
      ]
    },
    {
      "cell_type": "code",
      "metadata": {
        "id": "4ITPjXg0r-6m",
        "colab_type": "code",
        "outputId": "79b42bde-15d7-462e-cdbe-4f36588c0a7e",
        "colab": {
          "base_uri": "https://localhost:8080/",
          "height": 476
        }
      },
      "source": [
        "!pip install aguaclara"
      ],
      "execution_count": 1,
      "outputs": [
        {
          "output_type": "stream",
          "text": [
            "Collecting aguaclara\n",
            "\u001b[?25l  Downloading https://files.pythonhosted.org/packages/28/bd/ce0f9f758e58a15e5cc55812679fe6ded155da1b6bac2278e574ce63d728/aguaclara-0.2.0.tar.gz (87kB)\n",
            "\u001b[K     |████████████████████████████████| 92kB 2.9MB/s \n",
            "\u001b[?25hRequirement already satisfied: matplotlib in /usr/local/lib/python3.6/dist-packages (from aguaclara) (3.2.1)\n",
            "Requirement already satisfied: urllib3 in /usr/local/lib/python3.6/dist-packages (from aguaclara) (1.24.3)\n",
            "Collecting pint==0.8.1\n",
            "\u001b[?25l  Downloading https://files.pythonhosted.org/packages/1e/40/6938f7d544eef208a8183c2c80624289e8a4f4e0aea43f4658b9527077de/Pint-0.8.1.tar.gz (162kB)\n",
            "\u001b[K     |████████████████████████████████| 163kB 7.9MB/s \n",
            "\u001b[?25hRequirement already satisfied: pandas in /usr/local/lib/python3.6/dist-packages (from aguaclara) (1.0.3)\n",
            "Requirement already satisfied: scipy in /usr/local/lib/python3.6/dist-packages (from aguaclara) (1.4.1)\n",
            "Requirement already satisfied: kiwisolver>=1.0.1 in /usr/local/lib/python3.6/dist-packages (from matplotlib->aguaclara) (1.2.0)\n",
            "Requirement already satisfied: python-dateutil>=2.1 in /usr/local/lib/python3.6/dist-packages (from matplotlib->aguaclara) (2.8.1)\n",
            "Requirement already satisfied: cycler>=0.10 in /usr/local/lib/python3.6/dist-packages (from matplotlib->aguaclara) (0.10.0)\n",
            "Requirement already satisfied: pyparsing!=2.0.4,!=2.1.2,!=2.1.6,>=2.0.1 in /usr/local/lib/python3.6/dist-packages (from matplotlib->aguaclara) (2.4.7)\n",
            "Requirement already satisfied: numpy>=1.11 in /usr/local/lib/python3.6/dist-packages (from matplotlib->aguaclara) (1.18.3)\n",
            "Requirement already satisfied: pytz>=2017.2 in /usr/local/lib/python3.6/dist-packages (from pandas->aguaclara) (2018.9)\n",
            "Requirement already satisfied: six>=1.5 in /usr/local/lib/python3.6/dist-packages (from python-dateutil>=2.1->matplotlib->aguaclara) (1.12.0)\n",
            "Building wheels for collected packages: aguaclara, pint\n",
            "  Building wheel for aguaclara (setup.py) ... \u001b[?25l\u001b[?25hdone\n",
            "  Created wheel for aguaclara: filename=aguaclara-0.2.0-cp36-none-any.whl size=99623 sha256=afef4c2f124eaee98e3cdcbd2c0fe3643b9fada7391c1263ab917342a94612d5\n",
            "  Stored in directory: /root/.cache/pip/wheels/34/e9/34/0d3722243083a982623290c205c14a08b54ed290ee29219fd2\n",
            "  Building wheel for pint (setup.py) ... \u001b[?25l\u001b[?25hdone\n",
            "  Created wheel for pint: filename=Pint-0.8.1-py2.py3-none-any.whl size=134156 sha256=adfdd084d30998c3b4840c588a4a0f2d3bf8ced5653e53d760ee27308d53dcfc\n",
            "  Stored in directory: /root/.cache/pip/wheels/b4/56/36/7c4d6a4e3660e233b95e3b0482551915cb184abca0f93ee1dd\n",
            "Successfully built aguaclara pint\n",
            "Installing collected packages: pint, aguaclara\n",
            "Successfully installed aguaclara-0.2.0 pint-0.8.1\n"
          ],
          "name": "stdout"
        }
      ]
    },
    {
      "cell_type": "code",
      "metadata": {
        "id": "j3tpi4FnrwMX",
        "colab_type": "code",
        "colab": {}
      },
      "source": [
        "import aguaclara as ac\n",
        "from aguaclara.core.units import unit_registry as u\n",
        "import numpy as np\n",
        "import pandas as pd\n",
        "import matplotlib.pyplot as plt\n",
        "from scipy import stats\n",
        "from scipy import optimize"
      ],
      "execution_count": 0,
      "outputs": []
    },
    {
      "cell_type": "markdown",
      "metadata": {
        "id": "Ci7hsZy6sG0J",
        "colab_type": "text"
      },
      "source": [
        "## Design a sand column experiment.\n",
        "A sand filter column has an inner diameter of 1 inch and 50 cm total internal height. The sand depth in the column is 30 cm. The sand porosity is 0.4 (40% of the sand bed is filled with water, 60% is filled with sand). The sand density is $2650 kg/m^3$. The target approach velocity (the velocity of the water in the column if there were no sand) is 1.8 mm/s. The water is pumped with a peristaltic pump that delivers 2.8 mL per revolution.\n",
        "\n",
        "\n",
        "1. What is the mass of sand (in grams) that must be added to the column?\n",
        "2. The dry sand is poured into the empty column. Should the column be filled with water in upflow or downflow? Explain why!\n",
        "3. What flow rate (in mL/s) is required?\n",
        "4. What should the pump revolutions per minute be in rev/min? (Note that rev is a unit!)\n",
        "5. What is the hydraulic residence time of the water in the column (in seconds) including both the residence time in the sand bed and the residence time in the water above the sand bed?\n",
        "             "
      ]
    },
    {
      "cell_type": "code",
      "metadata": {
        "id": "t6q-Sp4BsH52",
        "colab_type": "code",
        "outputId": "02005b68-2ea8-4a9c-f436-6c1ec9c0775d",
        "colab": {
          "base_uri": "https://localhost:8080/",
          "height": 102
        }
      },
      "source": [
        "D = 1 * u.inch\n",
        "A = np.pi * D**2/4\n",
        "Va = 1.8 * u.mm/u.s\n",
        "H_column = 50 * u.cm\n",
        "H_sand = 30 * u.cm\n",
        "Sand_porosity = 0.4\n",
        "Sand_density = 2650 * u.kg/u.m**3\n",
        "Pump_flow_per_rev = 2.8 * u.mL/u.rev\n",
        "\n",
        "Sand_M = (Sand_porosity * Sand_density * H_sand * A).to(u.g)\n",
        "print('1) The sand mass is',Sand_M)\n",
        "\n",
        "print('2) The column must be filled in upflow mode so that the water can displace the air and drive the air out of the top of the column.')\n",
        "Q = (A*Va).to(u.mL/u.s)\n",
        "print('3) The flow rate is',Q)\n",
        "\n",
        "Pump_speed = (Q/Pump_flow_per_rev).to(u.rpm)\n",
        "print('4) The pump rpm should be set to',Pump_speed)\n",
        "\n",
        "HRT = ((H_sand*Sand_porosity + (H_column-H_sand)) * A/Q).to(u.s)\n",
        "print('5) The total hydraulic residence time in the column is',HRT)"
      ],
      "execution_count": 3,
      "outputs": [
        {
          "output_type": "stream",
          "text": [
            "1) The sand mass is 161.1 gram\n",
            "2) The column must be filled in upflow mode so that the water can displace the air and drive the air out of the top of the column.\n",
            "3) The flow rate is 0.9121 milliliter / second\n",
            "4) The pump rpm should be set to 19.54 revolutions_per_minute\n",
            "5) The total hydraulic residence time in the column is 177.8 second\n"
          ],
          "name": "stdout"
        }
      ]
    },
    {
      "cell_type": "markdown",
      "metadata": {
        "id": "ce48EHFPsMO5",
        "colab_type": "text"
      },
      "source": [
        "## Acid Neutralizing Capacity\n",
        "\n",
        "A 52 mL water sample that contains some carbonates is titrated with 0.05 N HCl. The equivalent volume of the titrant was 2.5 mL.\n",
        "\n",
        "6. What was the ANC of the sample (in meq/L)?"
      ]
    },
    {
      "cell_type": "code",
      "metadata": {
        "id": "cp3GpQo0sOZV",
        "colab_type": "code",
        "outputId": "d69531d2-c1dc-4dec-e16e-19bbc0c74782",
        "colab": {
          "base_uri": "https://localhost:8080/",
          "height": 34
        }
      },
      "source": [
        "Sample_V = 52 * u.mL\n",
        "Titrant_N = 0.05 * u.eq/u.L\n",
        "Sample_V_e = 2.5 * u.mL\n",
        "Sample_ANC = (Titrant_N * Sample_V_e/Sample_V).to(u.meq/u.L)\n",
        "print('6) The sample ANC is',Sample_ANC)"
      ],
      "execution_count": 4,
      "outputs": [
        {
          "output_type": "stream",
          "text": [
            "6) The sample ANC is 2.404 milliequivalent / liter\n"
          ],
          "name": "stdout"
        }
      ]
    },
    {
      "cell_type": "markdown",
      "metadata": {
        "id": "1UrHouSKsUo_",
        "colab_type": "text"
      },
      "source": [
        "## Photometer calibration\n",
        "The photometer that we use in lab measures absorbance using the following equation.\n",
        "\n",
        "$$A = -log \\frac{V_{Sample} - V_{Dark}}{V_{Blank} - V_{Dark}}$$\n",
        "\n",
        "where $log_{10}$ is log base 10.\n",
        "\n",
        "The relationship between concentration of a dissolved species and the absorbance will follow Beer's law.\n",
        "\n",
        "$$ A = \\epsilon b C + intercept $$\n",
        "\n",
        "where $\\epsilon$ is the extinction coefficient that is a property of the chemical species and where $intercept$ is zero.\n",
        "\n",
        "The optical path length for the photometer is 19 mm. The raw voltage data for dark voltage, blank voltage, standards, and unknown are given below.\n",
        "\n",
        "7. Use [stats.linregress](https://docs.scipy.org/doc/scipy/reference/generated/scipy.stats.linregress.html) to obtain the best fit line for the calibration with *absorbance as a function of concentration*. (No additional response needed for this number.)\n",
        "8. Plot the calibration data AND the best fit line (use both slope and intercept to draw this line) showing absorbance as a function of concentration (note that that ProCoDA shows this plot with the axis flipped). Make sure to label the axis and include a legend. And make sure that you have the same units on both plots!\n",
        "9. What is the correlation coefficient (r value) for the linear fit?\n",
        "10. Why does this data not follow Beer's law? Identify which data points do not follow Beer's law and explain the problem with those data points.\n",
        "\n",
        "11. Eliminate the data points that do not follow Beer's law. You can simply copy the raw data and then delete the data doesn't follow Beer's law. You don't need to write an algorithm for this step.  (No additional response needed for this number.)\n",
        "12. Use [stats.linregress](https://docs.scipy.org/doc/scipy/reference/generated/scipy.stats.linregress.html) to obtain the best fit line for the data that is within the measurement range of the photometer. (No additional response needed for this number.) \n",
        "13. What is $\\epsilon$? Make sure to simplify the units to $length^2/mass$. (Make sure to attach the correct units after doing the linear regression! Note that you can now ignore the intercept because it is almost zero!)\n",
        "14. Create a function in python that returns the concentration given a sample voltage. You can derive this equation from the two equations above.( No additional response needed for this number.)\n",
        "15. What is the absorbance of the unknown?\n",
        "16. What is the concentration of the unknown?\n",
        "17. Plot the calibration data, the best fit line (use only the slope to draw this line) showing absorbance as a function of concentration, and the unknown sample. Make sure to label the axis and include a legend. And make sure that you have the same units on both plots!"
      ]
    },
    {
      "cell_type": "code",
      "metadata": {
        "id": "2A_2p3PBsTuN",
        "colab_type": "code",
        "outputId": "9e84e42e-4ae1-4fc3-9b82-bfd45a9a694d",
        "colab": {
          "base_uri": "https://localhost:8080/",
          "height": 347
        }
      },
      "source": [
        "Dark_Volts = -1.3065 * u.V\n",
        "Blank_Volts = 3.49727 * u.V\n",
        "Unknown_Volts = 0.10632 * u.V\n",
        "Sample_C = np.array([0, 5, 10, 15, 20, 25, 50, 100, 200])* u.mg/u.L\n",
        "Sample_Volts = np.array([3.497270,0.554016,-0.611595,-1.045119,-1.252709,-1.283894, -1.29856, -1.30159, -1.30162])* u.volts\n",
        "\n",
        "def Absorbance(Sample_Volts):\n",
        "  Sample_A = -np.log10((Sample_Volts - Dark_Volts)/(Blank_Volts - Dark_Volts))\n",
        "  return(Sample_A)\n",
        "\n",
        "Sample_A = Absorbance(Sample_Volts)\n",
        "\n",
        "slope, intercept, r_value, p_value, std_err = stats.linregress(Sample_C,Sample_A)\n",
        "\n",
        "def A_Model(Sample_C):\n",
        "  A = Sample_C * slope + intercept\n",
        "  return A\n",
        "\n",
        "plt.plot(Sample_C,Sample_A,'o');\n",
        "plt.plot(Sample_C,A_Model(Sample_C),'b-');\n",
        "plt.legend(['calibration data','linear regression']);\n",
        "plt.ylabel('Absorbance');\n",
        "plt.xlabel('Concentration (mg/L)');\n",
        "plt.show()\n",
        "\n",
        "print('9) The correlation coefficient, r is',r_value)\n",
        "print('10) This data doesn\\'t fit Beer\\'s law because the amount of light getting to the photometer was below its detection limit for the 3 highest concentrations.')"
      ],
      "execution_count": 14,
      "outputs": [
        {
          "output_type": "stream",
          "text": [
            "[-0.          0.4119488   0.83965677  1.26430819  1.95087259  2.32735848\n",
            "  2.7817617   2.99050071  2.99316238]\n"
          ],
          "name": "stdout"
        },
        {
          "output_type": "display_data",
          "data": {
            "image/png": "[encoded data removed]",
            "text/plain": [
              "<Figure size 432x288 with 1 Axes>"
            ]
          },
          "metadata": {
            "tags": [],
            "needs_background": "light"
          }
        },
        {
          "output_type": "stream",
          "text": [
            "9) The correlation coefficient, r is 0.7216510436837159\n",
            "10) This data doesn't fit Beer's law because the amount of light getting to the photometer was below its detection limit for the 3 highest concentrations.\n"
          ],
          "name": "stdout"
        }
      ]
    },
    {
      "cell_type": "code",
      "metadata": {
        "id": "vf6gG9bhN6SL",
        "colab_type": "code",
        "colab": {
          "base_uri": "https://localhost:8080/",
          "height": 330
        },
        "outputId": "b4323c71-706c-4556-c194-9abaff220f43"
      },
      "source": [
        "# 11) eliminate data that is outside the detection limit.\n",
        "\n",
        "Sample_C = np.array([0, 5, 10, 15, 20, 25])* u.mg/u.L\n",
        "Sample_Volts = np.array([3.497270,0.554016,-0.611595,-1.045119,-1.252709,-1.283894])* u.volts\n",
        "Sample_A = Absorbance(Sample_Volts)\n",
        "\n",
        "# 12) linear regression\n",
        "slope, intercept, r_value, p_value, std_err = stats.linregress(Sample_C,Sample_A)\n",
        "\n",
        "slope = slope / (u.mg/u.L)\n",
        "extinction_coefficient = (slope/b).to(u.m**2/u.g)\n",
        "print('13) The extinction coefficient is', extinction_coefficient)\n",
        "\n",
        "# 14) concentration given sample volts\n",
        "def C_Model(Sample_Volts):\n",
        "  C = -np.log10((Sample_Volts - Dark_Volts)/(Blank_Volts - Dark_Volts)) /extinction_coefficient/b\n",
        "  return C.to(u.mg/u.L)\n",
        "\n",
        "print('15) The absorbance of the unknown is',Absorbance(Unknown_Volts))\n",
        "print('16) The concentration of the unknown is',C_Model(Unknown_Volts))\n",
        "\n",
        "#17 plot of the calibration data that is in the detector range.\n",
        "plt.plot(Sample_C,Sample_A,'o');\n",
        "plt.plot(C_Model(Sample_Volts),Sample_A,'b-');\n",
        "plt.plot(C_Model(Unknown_Volts),Absorbance(Unknown_Volts),'o')\n",
        "plt.legend(['calibration data','linear regression','unknown']);\n",
        "plt.ylabel('Absorbance');\n",
        "plt.xlabel('Concentration (mg/L)');\n",
        "plt.show()\n",
        "\n"
      ],
      "execution_count": 15,
      "outputs": [
        {
          "output_type": "stream",
          "text": [
            "13) The extinction coefficient is 5.016 meter ** 2 / gram\n",
            "15) The absorbance of the unknown is 0.5314953714297601\n",
            "16) The concentration of the unknown is 5.577 milligram / liter\n"
          ],
          "name": "stdout"
        },
        {
          "output_type": "display_data",
          "data": {
            "image/png": "[encoded data removed]",
            "text/plain": [
              "<Figure size 432x288 with 1 Axes>"
            ]
          },
          "metadata": {
            "tags": [],
            "needs_background": "light"
          }
        }
      ]
    },
    {
      "cell_type": "markdown",
      "metadata": {
        "id": "V6MwGulwsfJG",
        "colab_type": "text"
      },
      "source": [
        "17. A peristaltic pump is pumping a red dye solution from a tank on the floor through a column filled with sand and activated carbon with flow down through the column. The pump is on the laboratory bench and the column is held by clamps to a stand that is on the bench. The tube that exits from the bottom of the sand column is elevated and discharges to the atmosphere (it drips into the sink) at an elevation that is higher than the tubing entering the top of the sand column. There are air bubbles entering the sand column. Which explanation(s) for the source of the air bubbles is (are) consistent with the observed results? Use what you've learned in fluid mechanics to help guide your analysis.\n",
        "\n",
        "    A) Sand column fittings at the top of the column are leaking.\n",
        "\n",
        "    B) Sand column fittings at the bottom of the column are leaking.\n",
        "\n",
        "    C) *Instant tube fitting (push to connect fitting) between the tank and the pump is leaking.*\n",
        "\n",
        "    D) Instant tube fitting between the pump and the sand column is leaking.\n",
        "\n",
        "    E) *The tank of red dye is nearly empty and the pump is beginning to pull air into the end of the inlet tube.*\n",
        "\n",
        "18. ProCoDA is reporting a concentration of 10 mg/L of red dye with a calibrated photometer when students are pumping reverse osmosis water through the photometer. What might be causing the high readings? Which of the following explanations is (are) consistent with the observed results?\n",
        "\n",
        "     A) *An air bubble is caught in the optical path of the photometer*\n",
        "\n",
        "     B) The photometer LED is turned off\n",
        "\n",
        "     C) The photometer is installed backwards"
      ]
    }
  ]
}