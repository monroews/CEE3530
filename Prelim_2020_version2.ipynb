{
 "cells": [
  {
   "cell_type": "markdown",
   "metadata": {
    "colab_type": "text",
    "id": "eeLzh0EUr3TK"
   },
   "source": [
    "# CEE 4530 Prelim 2020\n",
    "\n",
    "Name:___________________\n",
    "\n",
    "This prelim is open book and open internet. You **are** allowed to discuss the questions and related concepts with anyone while you are taking this prelim. You are not allowed to post questions on discussion boards. If you have questions, send an email to Monroe (monroews@gmail.com). If the question is relevant for the whole class he will post it on the Canvas discussion board.\n",
    "\n",
    "For each question make sure to use units and to give variables names that are easily understood. Use print statements to **print the answers in a sentence** (except for the multiple choice!).\n",
    "\n",
    "Download your file as an ipynb and name it \"yournamePrelim.ipynb\" (10 points for this!)\n",
    "Turn your prelim in to Canvas as an assignment.\n",
    "\n",
    "Each question is worth 5 points."
   ]
  },
  {
   "cell_type": "code",
   "execution_count": null,
   "metadata": {
    "colab": {
     "base_uri": "https://localhost:8080/",
     "height": 340
    },
    "colab_type": "code",
    "id": "4ITPjXg0r-6m",
    "outputId": "f84186ff-942e-4e6f-b004-bdee24b9ce95"
   },
   "outputs": [],
   "source": [
    "!pip install aguaclara"
   ]
  },
  {
   "cell_type": "code",
   "execution_count": null,
   "metadata": {
    "colab": {},
    "colab_type": "code",
    "id": "j3tpi4FnrwMX"
   },
   "outputs": [],
   "source": [
    "import aguaclara as ac\n",
    "from aguaclara.core.units import unit_registry as u\n",
    "import numpy as np\n",
    "import pandas as pd\n",
    "import matplotlib.pyplot as plt\n",
    "from scipy import stats\n",
    "from scipy import optimize"
   ]
  },
  {
   "cell_type": "markdown",
   "metadata": {
    "colab_type": "text",
    "id": "Ci7hsZy6sG0J"
   },
   "source": [
    "## Design a completed mixed flow reactor dye tracer experiment.\n",
    "A tank that holds 4 Liters of water is to be used as a Completely Mixed Flow Reactor with a residence time of 10 minutes. The water is pumped with a peristaltic pump that delivers 2.8 mL per revolution. The maximum concentration of red dye that the photometer can measure is 50 mg/L and thus that is the target initial dye concentration. The red dye stock concentration is 100 g/L.\n",
    "\n",
    "\n",
    "1. What flow rate (in mL/s) is required?\n",
    "2. What should the pump revolutions per minute be in rev/min? (Note that rev is a unit!)\n",
    "3. How much of the red dye stock solutuion should be added to the reactor initially to achieve 50 mg/L?\n",
    "\n"
   ]
  },
  {
   "cell_type": "code",
   "execution_count": null,
   "metadata": {
    "colab": {
     "base_uri": "https://localhost:8080/",
     "height": 68
    },
    "colab_type": "code",
    "id": "t6q-Sp4BsH52",
    "outputId": "7ffedf0d-bc52-41c5-f592-14fe7261e812"
   },
   "outputs": [],
   "source": []
  },
  {
   "cell_type": "markdown",
   "metadata": {
    "colab_type": "text",
    "id": "EX9zoHrHKiwh"
   },
   "source": [
    "#Troubleshooting\n",
    "\n",
    "You have set up the CMFR experiment described above and you measure the peristaltic pump flow rate. You find that the volume pumped in one minute is 35l mL. \n",
    "\n",
    "4) How much water is the pump delivering per revolution?\n",
    "\n",
    "5) What should the pump rpm be to obtain the desired flow rate?\n",
    "\n"
   ]
  },
  {
   "cell_type": "code",
   "execution_count": null,
   "metadata": {
    "colab": {
     "base_uri": "https://localhost:8080/",
     "height": 51
    },
    "colab_type": "code",
    "id": "FZEXfLPPL_66",
    "outputId": "97d004bf-3ced-4833-9efd-125ebc217cd0"
   },
   "outputs": [],
   "source": []
  },
  {
   "cell_type": "markdown",
   "metadata": {
    "colab_type": "text",
    "id": "ce48EHFPsMO5"
   },
   "source": [
    "## CMFR in series\n",
    "\n",
    "There are 4 CMFR in series with a total volume of 4 L and a total residence time of 10 minutes. The water is pumped with a peristaltic pump that delivers 3.8 mL per revolution. The maximum concentration of red dye that the photometer can measure is 50 mg/L and thus that is the target maximum dye concentration. The red dye stock concentration is 100 g/L. \n",
    "\n",
    "$$E_{N\\left(t^{*}\\right)}=\\frac{C_{N(t^{*})} \\forall_{r}}{C_{t r} \\forall_{t r}}=\\frac{N^{N}}{(N-1) !}\\left(t^{*}\\right)^{N-1} e^{\\left(-N t^{*}\\right)}$$\n",
    "\n",
    "where $\\forall_{r}$ is the volume of one of the CMFR tanks.\n",
    "\n",
    "6) How much tracer would you have to add so that the maximum concentration exiting the last CMFR reached exactly 50 mg/L? Hint: a numerical solution is easy!\n",
    " \n"
   ]
  },
  {
   "cell_type": "code",
   "execution_count": null,
   "metadata": {
    "colab": {
     "base_uri": "https://localhost:8080/",
     "height": 282
    },
    "colab_type": "code",
    "id": "cp3GpQo0sOZV",
    "outputId": "9d8ce130-04b0-4259-f104-bbaf4814c128"
   },
   "outputs": [],
   "source": []
  },
  {
   "cell_type": "markdown",
   "metadata": {
    "colab_type": "text",
    "id": "sMu_h9ELOjqR"
   },
   "source": [
    "# Dissolved oxygen\n",
    "\n",
    "7) What is the equilibrium concentration of dissolved oxygen at standard atmospheric pressure and $0^\\circ C$? \n",
    "\n",
    "8) The water in Fall Creek gets as cold as $0^\\circ C$ in January. If we take a liter of this cold water and bring it into the laboratory where it warms up to $20^\\circ C$, what mass of oxygen will come out of solution?\n",
    "\n",
    "9) What volume of oxygen will come out of this 1 liter solution?"
   ]
  },
  {
   "cell_type": "code",
   "execution_count": null,
   "metadata": {
    "colab": {
     "base_uri": "https://localhost:8080/",
     "height": 68
    },
    "colab_type": "code",
    "id": "RbKz7kk7PN2k",
    "outputId": "e3037a9b-f520-4835-ea63-0241c58c4792"
   },
   "outputs": [],
   "source": []
  },
  {
   "cell_type": "markdown",
   "metadata": {
    "colab_type": "text",
    "id": "1UrHouSKsUo_"
   },
   "source": [
    "## Photometer calibration\n",
    "The photometer that we use in lab was used to measure the absorbance of a set of standard red dye solutuions.\n",
    "\n",
    "The relationship between concentration of a dissolved species and the absorbance should follow Beer's law.\n",
    "\n",
    "$$ A = \\epsilon b C + intercept $$\n",
    "\n",
    "where $\\epsilon$ is the extinction coefficient that is a property of the chemical species and where $intercept$ is zero.\n",
    "\n",
    "The optical path length for the photometer is 19 mm. The standard concentrations and absorbance values are given below.\n",
    "\n",
    "10. Use [stats.linregress](https://docs.scipy.org/doc/scipy/reference/generated/scipy.stats.linregress.html) to obtain the best fit line for the calibration with *absorbance as a function of concentration*. (No additional response needed for this number.)\n",
    "11. Plot the calibration data AND the best fit line (use both slope and intercept to draw this line) showing absorbance as a function of concentration (note that that ProCoDA shows this plot with the axis flipped). Make sure to label the axis and include a legend. And make sure that you have the same units on both plots!\n",
    "12. Why does the absorbance not continue to increase for the highest concentration standards?\n",
    "\n",
    "13. Eliminate the data points that do not follow Beer's law. You can simply copy the raw data and then delete the data that doesn't follow Beer's law. You don't need to write an algorithm for this step.  (No additional response needed for this number.)\n",
    "14. Use [stats.linregress](https://docs.scipy.org/doc/scipy/reference/generated/scipy.stats.linregress.html) to obtain the best fit line for the data that is within the measurement range of the photometer. (No additional response needed for this number.) \n",
    "15. What is $\\epsilon$? Make sure to simplify the units to $length^2/mass$. (Make sure to attach the correct units after doing the linear regression! Note that you can now ignore the intercept because it is almost zero!)\n",
    "16. Create a function in python that returns the concentration given a sample absorbance. ( No additional response needed for this number.)\n",
    "17. What is the concentration of the unknown?\n",
    "18. Plot the calibration data, the best fit line (use only the slope to draw this line) showing absorbance as a function of concentration, and the unknown sample. Make sure to label the axis and include a legend. And make sure that you have the same units on both plots!"
   ]
  },
  {
   "cell_type": "code",
   "execution_count": null,
   "metadata": {
    "colab": {
     "base_uri": "https://localhost:8080/",
     "height": 296
    },
    "colab_type": "code",
    "id": "2A_2p3PBsTuN",
    "outputId": "67027910-be4d-44f3-be63-55de50d26fe1"
   },
   "outputs": [],
   "source": [
    "Standard_A = np.array([0,0.4119488,0.83965677,1.26430819,1.95087259,2.32735848,2.4513617,2.45150071,2.45316238])\n",
    "Standard_C = np.array([0, 10, 20, 30, 40, 50, 60, 70, 80])* u.mg/u.L\n",
    "Unknown_A = 1.38759"
   ]
  },
  {
   "cell_type": "code",
   "execution_count": null,
   "metadata": {
    "colab": {
     "base_uri": "https://localhost:8080/",
     "height": 313
    },
    "colab_type": "code",
    "id": "vf6gG9bhN6SL",
    "outputId": "926de33e-970b-4ac7-9f10-df48ee1c6c54"
   },
   "outputs": [],
   "source": []
  }
 ],
 "metadata": {
  "colab": {
   "name": "Prelim_2020.ipynb",
   "provenance": []
  },
  "kernelspec": {
   "display_name": "Python 3",
   "language": "python",
   "name": "python3"
  },
  "language_info": {
   "codemirror_mode": {
    "name": "ipython",
    "version": 3
   },
   "file_extension": ".py",
   "mimetype": "text/x-python",
   "name": "python",
   "nbconvert_exporter": "python",
   "pygments_lexer": "ipython3",
   "version": "3.7.3"
  }
 },
 "nbformat": 4,
 "nbformat_minor": 1
}
